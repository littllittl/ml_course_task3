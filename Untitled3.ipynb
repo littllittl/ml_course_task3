{
 "cells": [
  {
   "cell_type": "code",
   "execution_count": 1,
   "metadata": {
    "collapsed": true
   },
   "outputs": [],
   "source": [
    "from math import sqrt\n",
    "import PIL.Image as Image\n",
    "import numpy as np\n",
    "import matplotlib.pyplot as plt\n",
    "from matplotlib import cm\n",
    "def hpf_coeffs(CL):\n",
    "    N = len(CL)                 \n",
    "    CH = [(-1)**k * CL[N - k - 1]  \n",
    "        for k in range(N)]\n",
    "    return CH"
   ]
  },
  {
   "cell_type": "code",
   "execution_count": 2,
   "metadata": {
    "collapsed": true
   },
   "outputs": [],
   "source": [
    "def pconv(data, CL, CH):\n",
    "    assert(len(CL) == len(CH))         \n",
    "    N = len(CL)\n",
    "    M = len(data)\n",
    "    out = []        \n",
    "    for k in range(0, M, 2):\n",
    "        sL = 0                  \n",
    "        sH = 0      \n",
    "        for i in range(N):\n",
    "            sL += data[(k + i) % M] * CL[i]\n",
    "            sH += data[(k + i) % M] * CH[i]\n",
    "        out.append(sL) \n",
    "        out.append(sH)\n",
    "    return out"
   ]
  },
  {
   "cell_type": "code",
   "execution_count": 29,
   "metadata": {},
   "outputs": [],
   "source": [
    "\n",
    "def dwt2(image, CL, h, w):\n",
    "    CH = hpf_coeffs(CL)\n",
    "    imageT = image.copy() \n",
    "    for i in range(h):  \n",
    "        imageT[i,:,:] = pconv(imageT[i,:,:], CL, CH)\n",
    "    for i in range(w):  \n",
    "        imageT [:,i,:] = pconv(imageT[:,i,:], CL, CH)\n",
    "    return Image.fromarray(np.uint8(imageT))\n",
    "   "
   ]
  },
  {
   "cell_type": "code",
   "execution_count": 30,
   "metadata": {
    "collapsed": true
   },
   "outputs": [],
   "source": [
    "def slsing(imageT,h,w,a,b):\n",
    "    data = imageT.copy()\n",
    "    data[0:a, 0:b] = imageT[0:h:2, 0:w:2]\n",
    "    data[a:h, 0:b] = imageT[1:h:2, 0:w:2]\n",
    "    data[0:a, b:w] = imageT[0:h:2, 1:w:2]\n",
    "    data[a:h, b:w] = imageT[1:h:2, 1:w:2]\n",
    "    return Image.fromarray(np.uint8(data))"
   ]
  },
  {
   "cell_type": "code",
   "execution_count": 34,
   "metadata": {},
   "outputs": [],
   "source": [
    "img = Image.open('/home/ansk/Загрузки/0FjfRlcnn4k.png').convert('RGB')\n",
    "H = 1000\n",
    "W=H\n",
    "C=[0.5,0.5]\n",
    "img.show()\n",
    "img=np.asarray(img)"
   ]
  },
  {
   "cell_type": "code",
   "execution_count": 35,
   "metadata": {},
   "outputs": [],
   "source": [
    "imgC = dwt2(img, C, H, W)\n",
    "imgC.show()"
   ]
  },
  {
   "cell_type": "code",
   "execution_count": 36,
   "metadata": {},
   "outputs": [],
   "source": [
    "imgC=np.asarray(imgC)\n",
    "data = slsing(imgC, H, W, 500, 500)\n",
    "data.show()"
   ]
  },
  {
   "cell_type": "code",
   "execution_count": null,
   "metadata": {
    "collapsed": true
   },
   "outputs": [],
   "source": []
  },
  {
   "cell_type": "code",
   "execution_count": null,
   "metadata": {
    "collapsed": true
   },
   "outputs": [],
   "source": []
  }
 ],
 "metadata": {
  "kernelspec": {
   "display_name": "Python 3",
   "language": "python",
   "name": "python3"
  },
  "language_info": {
   "codemirror_mode": {
    "name": "ipython",
    "version": 3
   },
   "file_extension": ".py",
   "mimetype": "text/x-python",
   "name": "python",
   "nbconvert_exporter": "python",
   "pygments_lexer": "ipython3",
   "version": "3.6.3"
  }
 },
 "nbformat": 4,
 "nbformat_minor": 2
}
